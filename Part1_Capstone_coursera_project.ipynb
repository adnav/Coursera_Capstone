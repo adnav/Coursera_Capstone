{
 "cells": [
  {
   "cell_type": "markdown",
   "metadata": {
    "collapsed": true
   },
   "source": [
    "# Coursera Capstone project: best place for a café-bookshop in Geneva (Switzerland)"
   ]
  },
  {
   "cell_type": "markdown",
   "metadata": {},
   "source": [
    "# Table of contents\n",
    "\n",
    "* [Introduction: business Problem](#introduction)\n",
    "* [Data](#data)"
   ]
  },
  {
   "cell_type": "markdown",
   "metadata": {},
   "source": [
    "## Introduction: business problem <a name=\"introduction\"></a>"
   ]
  },
  {
   "cell_type": "markdown",
   "metadata": {},
   "source": [
    "With this project, we intend to support any investors looking for the best place in Geneva (Switzerland) to open a new concept of **Café-Bookshop**: a place which doesn't exist in this city yet and where the visitor can savor a hot chocolate as well as discover the newest published titles of fictions, thrillers or documentaries.\n",
    "\n",
    "To this means, we need to find a neighbourood which meets the following criterias: i) in the city center, ii) with no bookshop nor iii) any cafés in the close vicinity and finally, iv) with a bus stop nearby.\n"
   ]
  },
  {
   "cell_type": "markdown",
   "metadata": {},
   "source": [
    "## Data <a name=\"data\"></a>"
   ]
  },
  {
   "cell_type": "markdown",
   "metadata": {},
   "source": [
    "In order to decide which location is the best, the following figures need to be produced:\n",
    "* distance of the neighborhood from the city center\n",
    "* number of existing cafés in the neighborhood\n",
    "* number of existing bookshops in the neighborhood\n",
    "* number of existing bus stops in the neighborhhod.\n",
    "\n",
    "\n",
    "We decided to use regularly spaced grid of locations, centered around city center, to define our neighborhoods.\n",
    "\n",
    "\n",
    "Following data sources will be needed to extract/generate the required information:<br>\n",
    "1. number of cafés, bookshops and their location in every neighborhood:<br>\n",
    "* will be obtained using **Foursquare API** (https://developer.foursquare.com/docs/places-api/)<br>\n",
    "* the data are updated yearly and available through direct query<br>\n",
    "\n",
    "2. number of bus stops and their location: <br>\n",
    "* will by extracted from the **Geneva public transportation (TPG)** data (https://opendata.swiss/fr/dataset/__274)<br>\n",
    "*the data are updated yearly and available as a CSV file<br>\n",
    "\n",
    "3. coordinate of Geneva city center:<br>\n",
    "* will be obtained using **Google Maps API geocoding** (https://developers.google.com/maps/documentation/geocoding/overview)<br>\n",
    "\n",
    "4.  centers of candidate areas will be generated algorithmically and approximate addresses of centers of those areas:<br>\n",
    "* will be obtained using **Google Maps API reverse geocoding** (https://developers.google.com/maps/documentation/geocoding/overview#ReverseGeocoding)<br>\n",
    "\n",
    "\n",
    "\n"
   ]
  }
 ],
 "metadata": {
  "kernelspec": {
   "display_name": "Python 3",
   "language": "python",
   "name": "python3"
  },
  "language_info": {
   "codemirror_mode": {
    "name": "ipython",
    "version": 3
   },
   "file_extension": ".py",
   "mimetype": "text/x-python",
   "name": "python",
   "nbconvert_exporter": "python",
   "pygments_lexer": "ipython3",
   "version": "3.8.5"
  }
 },
 "nbformat": 4,
 "nbformat_minor": 1
}
